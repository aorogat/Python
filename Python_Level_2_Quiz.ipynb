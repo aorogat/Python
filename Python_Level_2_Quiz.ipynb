{
  "nbformat": 4,
  "nbformat_minor": 0,
  "metadata": {
    "colab": {
      "name": "Python Level 2 - Quiz.ipynb",
      "provenance": []
    },
    "kernelspec": {
      "name": "python3",
      "display_name": "Python 3"
    }
  },
  "cells": [
    {
      "cell_type": "code",
      "metadata": {
        "id": "z_Z6fujBfJUy",
        "colab_type": "code",
        "colab": {}
      },
      "source": [
        "class Circle:\n",
        "    def __init__(self):\n",
        "        self.__r = 0\n",
        "        self.read()\n",
        "\n",
        "    def read(self):\n",
        "        radius = float(input('Radius = '))\n",
        "        if radius < 0:\n",
        "            print('Error; radius must be >= 0.')\n",
        "            self.read()\n",
        "        else:\n",
        "            self.__r = radius\n",
        "\n",
        "    def getArea(self):\n",
        "        return 3.14 * self.__r * self.__r\n",
        "\n",
        "    def getPerimiter(self):\n",
        "        return 3.14 * self.__r * 2\n",
        "\n",
        "    def printCharateristics(self):\n",
        "        print('Area = ', self.getArea(), ' cm^2')\n",
        "        print('Perimiter = ', self.getPerimiter(), ' cm')"
      ],
      "execution_count": 0,
      "outputs": []
    },
    {
      "cell_type": "code",
      "metadata": {
        "id": "u42W2O9hfPys",
        "colab_type": "code",
        "colab": {}
      },
      "source": [
        "class Cylinder(Circle):\n",
        "    def __init__(self):\n",
        "        self.__h = 0\n",
        "        self.read()\n",
        "\n",
        "    def read(self):\n",
        "        super().read()\n",
        "        h = float(input('Heigh = '))\n",
        "        if h < 0:\n",
        "            print('Error; height must be >= 0.')\n",
        "            self.read()\n",
        "        else:\n",
        "            self.__h = h\n",
        "\n",
        "    def getVolume(self):\n",
        "        return self.getArea() * self.__h\n",
        "\n",
        "    def printCharateristics(self):\n",
        "        super().printCharateristics()\n",
        "        print('Volume = ', self.getVolume(), ' cm^3')"
      ],
      "execution_count": 0,
      "outputs": []
    },
    {
      "cell_type": "code",
      "metadata": {
        "id": "CZY3t7B4fXmg",
        "colab_type": "code",
        "colab": {}
      },
      "source": [
        "while True:\n",
        "    shape = input('Enter the shape from [Circle, Cylinder]')\n",
        "\n",
        "    if shape == 'Circle':\n",
        "        c = Circle()\n",
        "        c.printCharateristics()\n",
        "\n",
        "    elif shape == 'Cylinder':\n",
        "        c = Cylinder()\n",
        "        c.printCharateristics()"
      ],
      "execution_count": 0,
      "outputs": []
    }
  ]
}